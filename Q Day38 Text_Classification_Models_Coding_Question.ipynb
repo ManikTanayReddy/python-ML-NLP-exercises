{
 "cells": [
  {
   "cell_type": "markdown",
   "id": "36933d01",
   "metadata": {},
   "source": [
    "Q Day-38 Write a Python program to classify text using a simple Decision Tree model from `sklearn. tree. DecisionTreeClassifier`. \n",
    "Convert text data into numerical format using `TfidfVectorizer`.\n",
    "Example input:\n",
    "    [\"Spam messages are annoying\", \"I won a lottery\", \"This is a normal message\"]\n"
   ]
  },
  {
   "cell_type": "code",
   "execution_count": 1,
   "id": "1caf40bc",
   "metadata": {},
   "outputs": [
    {
     "name": "stdout",
     "output_type": "stream",
     "text": [
      "The predicted label for the text 'Congratulations, you won a free trip!' is: Spam\n",
      "Test set accuracy: 100.00%\n"
     ]
    }
   ],
   "source": [
    "from sklearn.feature_extraction.text import TfidfVectorizer\n",
    "from sklearn.tree import DecisionTreeClassifier\n",
    "from sklearn.model_selection import train_test_split\n",
    "from sklearn.pipeline import make_pipeline\n",
    "\n",
    "# Sample text data and their corresponding labels\n",
    "# Labels: 0 for 'Non-Spam', 1 for 'Spam'\n",
    "texts = [\"Spam messages are annoying\", \"I won a lottery\", \"This is a normal message\",\n",
    "         \"You have been selected for a prize\", \"Click here to win money\", \"Hello, how are you?\"]\n",
    "\n",
    "labels = [1, 1, 0, 1, 1, 0]  # Spam (1) or Non-Spam (0)\n",
    "\n",
    "# Split the dataset into training and test sets\n",
    "X_train, X_test, y_train, y_test = train_test_split(texts, labels, test_size=0.3, random_state=42)\n",
    "\n",
    "# Create a pipeline that first converts text to TF-IDF features, then applies the Decision Tree classifier\n",
    "model = make_pipeline(TfidfVectorizer(), DecisionTreeClassifier())\n",
    "\n",
    "# Train the model\n",
    "model.fit(X_train, y_train)\n",
    "\n",
    "# Test the model by predicting the category of a new text\n",
    "new_text = [\"Congratulations, you won a free trip!\"]\n",
    "predicted_label = model.predict(new_text)\n",
    "\n",
    "# Output the predicted label (1 = Spam, 0 = Non-Spam)\n",
    "print(f\"The predicted label for the text '{new_text[0]}' is: {'Spam' if predicted_label[0] == 1 else 'Non-Spam'}\")\n",
    "\n",
    "# You can also evaluate the model on the test set\n",
    "test_accuracy = model.score(X_test, y_test)\n",
    "print(f\"Test set accuracy: {test_accuracy * 100:.2f}%\")\n"
   ]
  },
  {
   "cell_type": "code",
   "execution_count": null,
   "id": "e1f85285",
   "metadata": {},
   "outputs": [],
   "source": []
  }
 ],
 "metadata": {
  "kernelspec": {
   "display_name": "Python 3 (ipykernel)",
   "language": "python",
   "name": "python3"
  },
  "language_info": {
   "codemirror_mode": {
    "name": "ipython",
    "version": 3
   },
   "file_extension": ".py",
   "mimetype": "text/x-python",
   "name": "python",
   "nbconvert_exporter": "python",
   "pygments_lexer": "ipython3",
   "version": "3.11.5"
  }
 },
 "nbformat": 4,
 "nbformat_minor": 5
}
