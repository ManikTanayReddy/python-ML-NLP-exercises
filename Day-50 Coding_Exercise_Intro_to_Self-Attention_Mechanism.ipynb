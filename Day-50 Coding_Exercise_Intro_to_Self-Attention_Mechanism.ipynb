{
 "cells": [
  {
   "cell_type": "markdown",
   "id": "fe8276a5",
   "metadata": {},
   "source": [
    "Q. Day-50 Write a Python program to create a simple attention score calculation. Use NumPy to generate random values for query, key, and value vectors, then compute the dot product.\n"
   ]
  },
  {
   "cell_type": "code",
   "execution_count": 1,
   "id": "aaa95d26",
   "metadata": {},
   "outputs": [
    {
     "name": "stdout",
     "output_type": "stream",
     "text": [
      "Query Vector:  [0.94106336 0.955855   0.03588313 0.67718762]\n",
      "Key Vector:  [0.37815125 0.38076423 0.55418529 0.3597403 ]\n",
      "Value Vector:  [0.00319989 0.22251464 0.84706287 0.64222683]\n",
      "Attention Score (Dot Product):  0.9833172545419486\n",
      "Attention Weight (after softmax):  [1.]\n",
      "Output (Weighted Sum of Value):  [0.00319989 0.22251464 0.84706287 0.64222683]\n"
     ]
    }
   ],
   "source": [
    "import numpy as np\n",
    "\n",
    "# Define the dimensions of the query, key, and value vectors\n",
    "d_model = 4  # The dimensionality of the vectors (you can adjust this)\n",
    "\n",
    "# Generate random query, key, and value vectors (typically for a batch)\n",
    "query = np.random.rand(d_model)  # Random query vector\n",
    "key = np.random.rand(d_model)    # Random key vector\n",
    "value = np.random.rand(d_model)  # Random value vector\n",
    "\n",
    "# Compute the attention score using the dot product of query and key\n",
    "attention_score = np.dot(query, key)\n",
    "\n",
    "# For simplicity, we will apply softmax (not strictly required for this simple case, but it can be applied for normalization)\n",
    "# Softmax function to normalize the attention scores (optional in some cases)\n",
    "def softmax(x):\n",
    "    e_x = np.exp(x - np.max(x))  # Subtract the max for numerical stability\n",
    "    return e_x / e_x.sum()\n",
    "\n",
    "# Softmax applied to the attention score (here we treat it as a single scalar for simplicity)\n",
    "attention_weight = softmax(np.array([attention_score]))\n",
    "\n",
    "# Calculate the weighted sum of the value vector (the actual output of the attention mechanism)\n",
    "output = attention_weight[0] * value\n",
    "\n",
    "# Print results\n",
    "print(\"Query Vector: \", query)\n",
    "print(\"Key Vector: \", key)\n",
    "print(\"Value Vector: \", value)\n",
    "print(\"Attention Score (Dot Product): \", attention_score)\n",
    "print(\"Attention Weight (after softmax): \", attention_weight)\n",
    "print(\"Output (Weighted Sum of Value): \", output)\n"
   ]
  },
  {
   "cell_type": "code",
   "execution_count": null,
   "id": "3864ffd4",
   "metadata": {},
   "outputs": [],
   "source": []
  }
 ],
 "metadata": {
  "kernelspec": {
   "display_name": "Python 3 (ipykernel)",
   "language": "python",
   "name": "python3"
  },
  "language_info": {
   "codemirror_mode": {
    "name": "ipython",
    "version": 3
   },
   "file_extension": ".py",
   "mimetype": "text/x-python",
   "name": "python",
   "nbconvert_exporter": "python",
   "pygments_lexer": "ipython3",
   "version": "3.11.5"
  }
 },
 "nbformat": 4,
 "nbformat_minor": 5
}
