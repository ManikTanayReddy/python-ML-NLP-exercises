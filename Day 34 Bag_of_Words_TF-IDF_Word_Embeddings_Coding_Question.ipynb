{
 "cells": [
  {
   "cell_type": "markdown",
   "id": "fc964b5c",
   "metadata": {},
   "source": [
    "Q day 34. Write a Python program to convert a given text into a Bag of Words (BoW) representation using `CountVectorizer` from `sklearn.feature_extraction.text`. \n",
    "Also, compute the TF-IDF representation using `TfidfVectorizer`.\n",
    "Example input:\n",
    "    [\"I love machine learning\", \"Machine learning is fun\", \"Deep learning is amazing\"]\n"
   ]
  },
  {
   "cell_type": "code",
   "execution_count": 1,
   "id": "98269bb7",
   "metadata": {},
   "outputs": [
    {
     "name": "stdout",
     "output_type": "stream",
     "text": [
      "Bag of Words (BoW) Representation:\n",
      "[[0 0 0 0 1 1 1]\n",
      " [0 0 1 1 1 0 1]\n",
      " [1 1 0 1 1 0 0]]\n",
      "Feature Names (words):\n",
      "['amazing' 'deep' 'fun' 'is' 'learning' 'love' 'machine']\n",
      "\n",
      "\n",
      "TF-IDF Representation:\n",
      "[[0.         0.         0.         0.         0.42544054 0.72033345\n",
      "  0.54783215]\n",
      " [0.         0.         0.63174505 0.4804584  0.37311881 0.\n",
      "  0.4804584 ]\n",
      " [0.5844829  0.5844829  0.         0.44451431 0.34520502 0.\n",
      "  0.        ]]\n",
      "Feature Names (words):\n",
      "['amazing' 'deep' 'fun' 'is' 'learning' 'love' 'machine']\n"
     ]
    }
   ],
   "source": [
    "from sklearn.feature_extraction.text import CountVectorizer, TfidfVectorizer\n",
    "\n",
    "# Example input\n",
    "corpus = [\"I love machine learning\", \"Machine learning is fun\", \"Deep learning is amazing\"]\n",
    "\n",
    "# Bag of Words (BoW) representation using CountVectorizer\n",
    "count_vectorizer = CountVectorizer()\n",
    "X_bow = count_vectorizer.fit_transform(corpus)\n",
    "\n",
    "# Displaying the BoW representation (as an array)\n",
    "print(\"Bag of Words (BoW) Representation:\")\n",
    "print(X_bow.toarray())\n",
    "print(\"Feature Names (words):\")\n",
    "print(count_vectorizer.get_feature_names_out())\n",
    "print(\"\\n\")\n",
    "\n",
    "# TF-IDF representation using TfidfVectorizer\n",
    "tfidf_vectorizer = TfidfVectorizer()\n",
    "X_tfidf = tfidf_vectorizer.fit_transform(corpus)\n",
    "\n",
    "# Displaying the TF-IDF representation (as an array)\n",
    "print(\"TF-IDF Representation:\")\n",
    "print(X_tfidf.toarray())\n",
    "print(\"Feature Names (words):\")\n",
    "print(tfidf_vectorizer.get_feature_names_out())\n"
   ]
  },
  {
   "cell_type": "code",
   "execution_count": null,
   "id": "01e68d89",
   "metadata": {},
   "outputs": [],
   "source": []
  }
 ],
 "metadata": {
  "kernelspec": {
   "display_name": "Python 3 (ipykernel)",
   "language": "python",
   "name": "python3"
  },
  "language_info": {
   "codemirror_mode": {
    "name": "ipython",
    "version": 3
   },
   "file_extension": ".py",
   "mimetype": "text/x-python",
   "name": "python",
   "nbconvert_exporter": "python",
   "pygments_lexer": "ipython3",
   "version": "3.11.5"
  }
 },
 "nbformat": 4,
 "nbformat_minor": 5
}
