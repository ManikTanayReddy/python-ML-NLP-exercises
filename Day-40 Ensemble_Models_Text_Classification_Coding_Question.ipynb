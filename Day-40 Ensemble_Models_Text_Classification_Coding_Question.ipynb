{
 "cells": [
  {
   "cell_type": "markdown",
   "id": "cfaed855",
   "metadata": {},
   "source": [
    "Q Day40 Write a Python program to classify text using an ensemble model (`RandomForestClassifier`) from `sklearn.ensemble`. \n",
    "Use `TfidfVectorizer` to convert text into numerical format.\n",
    "Example input:\n",
    "    [\"Buy now and win a prize\", \"Normal email content\", \"Congratulations, you won!\"]\n"
   ]
  },
  {
   "cell_type": "code",
   "execution_count": 1,
   "id": "e8e097ef",
   "metadata": {},
   "outputs": [
    {
     "name": "stdout",
     "output_type": "stream",
     "text": [
      "The predicted label for the text 'Exclusive offer just for you!' is: Spam\n",
      "Test set accuracy: 50.00%\n"
     ]
    }
   ],
   "source": [
    "from sklearn.feature_extraction.text import TfidfVectorizer\n",
    "from sklearn.ensemble import RandomForestClassifier\n",
    "from sklearn.model_selection import train_test_split\n",
    "from sklearn.pipeline import make_pipeline\n",
    "\n",
    "# Sample text data and their corresponding labels\n",
    "# Labels: 0 for 'Normal', 1 for 'Spam'\n",
    "texts = [\"Buy now and win a prize\", \"Normal email content\", \"Congratulations, you won!\",\n",
    "         \"Free money for you!\", \"Get a chance to win a gift card\", \"Hello, how are you?\"]\n",
    "\n",
    "labels = [1, 0, 1, 1, 1, 0]  # Spam (1) or Normal (0)\n",
    "\n",
    "# Split the dataset into training and test sets\n",
    "X_train, X_test, y_train, y_test = train_test_split(texts, labels, test_size=0.3, random_state=42)\n",
    "\n",
    "# Create a pipeline that first converts text to TF-IDF features, then applies the RandomForest classifier\n",
    "model = make_pipeline(TfidfVectorizer(), RandomForestClassifier())\n",
    "\n",
    "# Train the model\n",
    "model.fit(X_train, y_train)\n",
    "\n",
    "# Test the model by predicting the category of a new text\n",
    "new_text = [\"Exclusive offer just for you!\"]\n",
    "predicted_label = model.predict(new_text)\n",
    "\n",
    "# Output the predicted label (1 = Spam, 0 = Normal)\n",
    "print(f\"The predicted label for the text '{new_text[0]}' is: {'Spam' if predicted_label[0] == 1 else 'Normal'}\")\n",
    "\n",
    "# Evaluate the model on the test set\n",
    "test_accuracy = model.score(X_test, y_test)\n",
    "print(f\"Test set accuracy: {test_accuracy * 100:.2f}%\")\n"
   ]
  },
  {
   "cell_type": "code",
   "execution_count": null,
   "id": "129c6c46",
   "metadata": {},
   "outputs": [],
   "source": []
  }
 ],
 "metadata": {
  "kernelspec": {
   "display_name": "Python 3 (ipykernel)",
   "language": "python",
   "name": "python3"
  },
  "language_info": {
   "codemirror_mode": {
    "name": "ipython",
    "version": 3
   },
   "file_extension": ".py",
   "mimetype": "text/x-python",
   "name": "python",
   "nbconvert_exporter": "python",
   "pygments_lexer": "ipython3",
   "version": "3.11.5"
  }
 },
 "nbformat": 4,
 "nbformat_minor": 5
}
