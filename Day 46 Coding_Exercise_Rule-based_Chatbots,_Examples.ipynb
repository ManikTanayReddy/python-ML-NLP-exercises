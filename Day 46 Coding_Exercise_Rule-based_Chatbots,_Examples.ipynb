{
 "cells": [
  {
   "cell_type": "markdown",
   "id": "27b8bf3b",
   "metadata": {},
   "source": [
    "Q Day 46 Write a Python program that uses a dictionary to define chatbot responses. The chatbot should reply to 'Hello', 'How are you?', and 'Bye' with predefined responses.\n"
   ]
  },
  {
   "cell_type": "code",
   "execution_count": null,
   "id": "b1a2531f",
   "metadata": {},
   "outputs": [
    {
     "name": "stdout",
     "output_type": "stream",
     "text": [
      "Welcome to the chatbot! Type 'Hello', 'How are you?' or 'Bye'. Type 'Exit' to end the chat.\n",
      "You: Hello\n",
      "Chatbot: Hi! How can I help you?\n",
      "You: Bye\n",
      "Chatbot: Goodbye! Have a nice day!\n"
     ]
    }
   ],
   "source": [
    "# Simple chatbot program using a dictionary for responses\n",
    "\n",
    "def chatbot():\n",
    "    # Dictionary with predefined responses\n",
    "    responses = {\n",
    "        \"hello\": \"Hi! How can I help you?\",\n",
    "        \"how are you?\": \"I'm just a chatbot, but I'm doing great! How about you?\",\n",
    "        \"bye\": \"Goodbye! Have a nice day!\"\n",
    "    }\n",
    "    \n",
    "    print(\"Welcome to the chatbot! Type 'Hello', 'How are you?' or 'Bye'. Type 'Exit' to end the chat.\")\n",
    "    \n",
    "    while True:\n",
    "        # Get user input\n",
    "        user_input = input(\"You: \").strip().lower()  # Convert input to lowercase for case insensitivity\n",
    "        \n",
    "        # Check if the input is in the dictionary and respond accordingly\n",
    "        if user_input in responses:\n",
    "            print(\"Chatbot:\", responses[user_input])\n",
    "        elif user_input == \"exit\":\n",
    "            print(\"Chatbot: Goodbye! Take care!\")\n",
    "            break  # Exit the loop and end the chat\n",
    "        else:\n",
    "            print(\"Chatbot: I'm sorry, I don't understand that. Please type 'Hello', 'How are you?' or 'Bye'.\")\n",
    "            \n",
    "# Run the chatbot\n",
    "chatbot()\n"
   ]
  },
  {
   "cell_type": "code",
   "execution_count": null,
   "id": "59d670dd",
   "metadata": {},
   "outputs": [],
   "source": []
  }
 ],
 "metadata": {
  "kernelspec": {
   "display_name": "Python 3 (ipykernel)",
   "language": "python",
   "name": "python3"
  },
  "language_info": {
   "codemirror_mode": {
    "name": "ipython",
    "version": 3
   },
   "file_extension": ".py",
   "mimetype": "text/x-python",
   "name": "python",
   "nbconvert_exporter": "python",
   "pygments_lexer": "ipython3",
   "version": "3.11.5"
  }
 },
 "nbformat": 4,
 "nbformat_minor": 5
}
