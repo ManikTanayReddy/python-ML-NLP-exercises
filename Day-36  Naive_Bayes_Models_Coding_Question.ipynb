{
 "cells": [
  {
   "cell_type": "markdown",
   "id": "4e5d9540",
   "metadata": {},
   "source": [
    "Q day 36 Write a Python program to perform text classification using a Naïve Bayes classifier (`MultinomialNB`) from `sklearn.naive_bayes`. \n",
    "Train the model using sample text data and predict the category of a given new text.\n",
    "Example input:\n",
    "    [\"I love programming\", \"Python is great\", \"Machine learning is amazing\"]\n",
    "\n",
    "\n"
   ]
  },
  {
   "cell_type": "code",
   "execution_count": 1,
   "id": "17b040d6",
   "metadata": {},
   "outputs": [
    {
     "name": "stdout",
     "output_type": "stream",
     "text": [
      "The predicted category for the text 'I love learning Python programming' is: Python\n"
     ]
    }
   ],
   "source": [
    "from sklearn.feature_extraction.text import CountVectorizer\n",
    "from sklearn.naive_bayes import MultinomialNB\n",
    "from sklearn.model_selection import train_test_split\n",
    "from sklearn.pipeline import make_pipeline\n",
    "\n",
    "# Sample text data and their corresponding categories\n",
    "# Categories could be, for example, 'Programming', 'Python', 'Machine Learning'\n",
    "texts = [\"I love programming\", \"Python is great\", \"Machine learning is amazing\", \n",
    "         \"I enjoy coding\", \"Python makes programming easy\", \n",
    "         \"Machine learning is fun\", \"I am learning Python\"]\n",
    "\n",
    "categories = [\"Programming\", \"Python\", \"Machine Learning\", \n",
    "              \"Programming\", \"Python\", \"Machine Learning\", \"Python\"]\n",
    "\n",
    "# Split the dataset into training and test sets\n",
    "X_train, X_test, y_train, y_test = train_test_split(texts, categories, test_size=0.2, random_state=42)\n",
    "\n",
    "# Create a pipeline that first vectorizes the text, then applies the Naïve Bayes classifier\n",
    "model = make_pipeline(CountVectorizer(), MultinomialNB())\n",
    "\n",
    "# Train the model\n",
    "model.fit(X_train, y_train)\n",
    "\n",
    "# Test the model by predicting the category of a new text\n",
    "new_text = [\"I love learning Python programming\"]\n",
    "predicted_category = model.predict(new_text)\n",
    "\n",
    "# Output the predicted category\n",
    "print(f\"The predicted category for the text '{new_text[0]}' is: {predicted_category[0]}\")\n"
   ]
  },
  {
   "cell_type": "code",
   "execution_count": null,
   "id": "0344634e",
   "metadata": {},
   "outputs": [],
   "source": []
  }
 ],
 "metadata": {
  "kernelspec": {
   "display_name": "Python 3 (ipykernel)",
   "language": "python",
   "name": "python3"
  },
  "language_info": {
   "codemirror_mode": {
    "name": "ipython",
    "version": 3
   },
   "file_extension": ".py",
   "mimetype": "text/x-python",
   "name": "python",
   "nbconvert_exporter": "python",
   "pygments_lexer": "ipython3",
   "version": "3.11.5"
  }
 },
 "nbformat": 4,
 "nbformat_minor": 5
}
