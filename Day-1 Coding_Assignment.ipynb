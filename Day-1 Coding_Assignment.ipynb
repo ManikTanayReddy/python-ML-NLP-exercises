{
 "cells": [
  {
   "cell_type": "markdown",
   "id": "e570b6d0",
   "metadata": {},
   "source": [
    "# Day 1 Assignment"
   ]
  },
  {
   "cell_type": "markdown",
   "id": "00618cc8",
   "metadata": {},
   "source": [
    "1. Jupyter Notebook and Data Types\n",
    "\n",
    "1.Q Write a program in Jupyter Notebook to declare variables of different data types (integer, float, string, and boolean). Print each variable and its type.\n"
   ]
  },
  {
   "cell_type": "code",
   "execution_count": 1,
   "id": "3b7a5454",
   "metadata": {},
   "outputs": [
    {
     "name": "stdout",
     "output_type": "stream",
     "text": [
      "Integer Variable:\n",
      "Value: 25 | Type: <class 'int'>\n",
      "\n",
      "Float Variable:\n",
      "Value: 3.14 | Type: <class 'float'>\n",
      "\n",
      "String Variable:\n",
      "Value: Hello, World! | Type: <class 'str'>\n",
      "\n",
      "Boolean Variable:\n",
      "Value: True | Type: <class 'bool'>\n"
     ]
    }
   ],
   "source": [
    "integer_var = 25              # Integer\n",
    "float_var = 3.14              # Float\n",
    "string_var = \"Hello, World!\"  # String\n",
    "boolean_var = True            # Boolean\n",
    "\n",
    "print(\"Integer Variable:\")\n",
    "print(\"Value:\", integer_var, \"| Type:\", type(integer_var))\n",
    "\n",
    "print(\"\\nFloat Variable:\")\n",
    "print(\"Value:\", float_var, \"| Type:\", type(float_var))\n",
    "\n",
    "print(\"\\nString Variable:\")\n",
    "print(\"Value:\", string_var, \"| Type:\", type(string_var))\n",
    "\n",
    "print(\"\\nBoolean Variable:\")\n",
    "print(\"Value:\", boolean_var, \"| Type:\", type(boolean_var))\n"
   ]
  },
  {
   "cell_type": "code",
   "execution_count": null,
   "id": "acc02d90",
   "metadata": {},
   "outputs": [],
   "source": []
  }
 ],
 "metadata": {
  "kernelspec": {
   "display_name": "Python 3 (ipykernel)",
   "language": "python",
   "name": "python3"
  },
  "language_info": {
   "codemirror_mode": {
    "name": "ipython",
    "version": 3
   },
   "file_extension": ".py",
   "mimetype": "text/x-python",
   "name": "python",
   "nbconvert_exporter": "python",
   "pygments_lexer": "ipython3",
   "version": "3.11.5"
  }
 },
 "nbformat": 4,
 "nbformat_minor": 5
}
