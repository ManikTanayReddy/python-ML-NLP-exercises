{
 "cells": [
  {
   "cell_type": "markdown",
   "id": "f8d90265",
   "metadata": {},
   "source": [
    "Q Day-44 Write a Python program to create a simple chatbot that responds to user input. Use an if-else statement to reply to 'Hello' with 'Hi! How can I help you?' and to 'Bye' with 'Goodbye! Have a nice day!'."
   ]
  },
  {
   "cell_type": "code",
   "execution_count": null,
   "id": "654d1a2e",
   "metadata": {},
   "outputs": [],
   "source": [
    "# Simple chatbot program using if-else statements\n",
    "\n",
    "def chatbot():\n",
    "    print(\"Welcome to the simple chatbot! Type 'Hello' to start or 'Bye' to exit.\")\n",
    "    \n",
    "    while True:\n",
    "        # Get user input\n",
    "        user_input = input(\"You: \").strip().lower()  # Convert input to lowercase for case insensitivity\n",
    "        \n",
    "        # Respond based on user input\n",
    "        if user_input == \"hello\":\n",
    "            print(\"Chatbot: Hi! How can I help you?\")\n",
    "        elif user_input == \"bye\":\n",
    "            print(\"Chatbot: Goodbye! Have a nice day!\")\n",
    "            break  # Exit the loop and end the chatbot interaction\n",
    "        else:\n",
    "            print(\"Chatbot: I'm sorry, I don't understand that. Please type 'Hello' or 'Bye'.\")\n",
    "            \n",
    "# Run the chatbot\n",
    "chatbot()\n"
   ]
  }
 ],
 "metadata": {
  "kernelspec": {
   "display_name": "Python 3 (ipykernel)",
   "language": "python",
   "name": "python3"
  },
  "language_info": {
   "codemirror_mode": {
    "name": "ipython",
    "version": 3
   },
   "file_extension": ".py",
   "mimetype": "text/x-python",
   "name": "python",
   "nbconvert_exporter": "python",
   "pygments_lexer": "ipython3",
   "version": "3.11.5"
  }
 },
 "nbformat": 4,
 "nbformat_minor": 5
}
